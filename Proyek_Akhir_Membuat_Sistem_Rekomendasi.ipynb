{
  "nbformat": 4,
  "nbformat_minor": 0,
  "metadata": {
    "colab": {
      "provenance": []
    },
    "kernelspec": {
      "name": "python3",
      "display_name": "Python 3"
    },
    "language_info": {
      "name": "python"
    }
  },
  "cells": [
    {
      "cell_type": "markdown",
      "source": [
        "## **1. Pendahuluan**\n",
        "Sistem rekomendasi adalah teknologi yang digunakan untuk memberikan rekomendasi atau saran kepada pengguna berdasarkan preferensi mereka. Dalam proyek ini, kami akan menggunakan dataset MovieLens dan membangun sistem rekomendasi menggunakan algoritma Collaborative Filtering dengan metode Matrix Factorization, yaitu Singular Value Decomposition (SVD)."
      ],
      "metadata": {
        "id": "Al2l27s-Uy-A"
      }
    },
    {
      "cell_type": "markdown",
      "source": [
        "## **2. Langkah-langkah**\n",
        "### **2.1. Persiapan Awal**\n",
        "Impor library yang diperlukan, seperti pandas, numpy, dan scikit-learn. Menginstal library surprise yang digunakan untuk algoritma rekomendasi."
      ],
      "metadata": {
        "id": "wtn2gHWKVNzF"
      }
    },
    {
      "cell_type": "code",
      "execution_count": 6,
      "metadata": {
        "colab": {
          "base_uri": "https://localhost:8080/"
        },
        "id": "sSZIclllSyz7",
        "outputId": "13249689-9466-4882-95da-aa21ed14be4a"
      },
      "outputs": [
        {
          "output_type": "stream",
          "name": "stdout",
          "text": [
            "Looking in indexes: https://pypi.org/simple, https://us-python.pkg.dev/colab-wheels/public/simple/\n",
            "Requirement already satisfied: scikit-learn in /usr/local/lib/python3.10/dist-packages (1.2.2)\n",
            "Requirement already satisfied: numpy>=1.17.3 in /usr/local/lib/python3.10/dist-packages (from scikit-learn) (1.22.4)\n",
            "Requirement already satisfied: scipy>=1.3.2 in /usr/local/lib/python3.10/dist-packages (from scikit-learn) (1.10.1)\n",
            "Requirement already satisfied: joblib>=1.1.1 in /usr/local/lib/python3.10/dist-packages (from scikit-learn) (1.2.0)\n",
            "Requirement already satisfied: threadpoolctl>=2.0.0 in /usr/local/lib/python3.10/dist-packages (from scikit-learn) (3.1.0)\n",
            "Looking in indexes: https://pypi.org/simple, https://us-python.pkg.dev/colab-wheels/public/simple/\n",
            "Requirement already satisfied: pandas in /usr/local/lib/python3.10/dist-packages (1.5.3)\n",
            "Requirement already satisfied: python-dateutil>=2.8.1 in /usr/local/lib/python3.10/dist-packages (from pandas) (2.8.2)\n",
            "Requirement already satisfied: pytz>=2020.1 in /usr/local/lib/python3.10/dist-packages (from pandas) (2022.7.1)\n",
            "Requirement already satisfied: numpy>=1.21.0 in /usr/local/lib/python3.10/dist-packages (from pandas) (1.22.4)\n",
            "Requirement already satisfied: six>=1.5 in /usr/local/lib/python3.10/dist-packages (from python-dateutil>=2.8.1->pandas) (1.16.0)\n",
            "Looking in indexes: https://pypi.org/simple, https://us-python.pkg.dev/colab-wheels/public/simple/\n",
            "Requirement already satisfied: numpy in /usr/local/lib/python3.10/dist-packages (1.22.4)\n",
            "Looking in indexes: https://pypi.org/simple, https://us-python.pkg.dev/colab-wheels/public/simple/\n",
            "Requirement already satisfied: scikit-surprise in /usr/local/lib/python3.10/dist-packages (1.1.3)\n",
            "Requirement already satisfied: joblib>=1.0.0 in /usr/local/lib/python3.10/dist-packages (from scikit-surprise) (1.2.0)\n",
            "Requirement already satisfied: numpy>=1.17.3 in /usr/local/lib/python3.10/dist-packages (from scikit-surprise) (1.22.4)\n",
            "Requirement already satisfied: scipy>=1.3.2 in /usr/local/lib/python3.10/dist-packages (from scikit-surprise) (1.10.1)\n"
          ]
        }
      ],
      "source": [
        "!pip install scikit-learn\n",
        "!pip install pandas\n",
        "!pip install numpy\n",
        "!pip install scikit-surprise\n"
      ]
    },
    {
      "cell_type": "code",
      "source": [
        "import pandas as pd\n",
        "import numpy as np"
      ],
      "metadata": {
        "id": "x5t50si-WSfV"
      },
      "execution_count": 5,
      "outputs": []
    },
    {
      "cell_type": "markdown",
      "source": [
        "### **2.2. Unduh dan Muat Dataset**\n",
        "Mengunduh dataset MovieLens dan memuat dataset ke dalam DataFrame menggunakan library pandas. Kita akan menggunakan dataset MovieLens 100K."
      ],
      "metadata": {
        "id": "xfsKJk2-VkYI"
      }
    },
    {
      "cell_type": "code",
      "source": [
        "!wget http://files.grouplens.org/datasets/movielens/ml-100k.zip\n",
        "!unzip ml-100k.zip\n"
      ],
      "metadata": {
        "colab": {
          "base_uri": "https://localhost:8080/"
        },
        "id": "nCphbHrYV5Kk",
        "outputId": "06cf524d-ba43-4927-e13d-39c5b9f08ba3"
      },
      "execution_count": 7,
      "outputs": [
        {
          "output_type": "stream",
          "name": "stdout",
          "text": [
            "--2023-06-06 10:56:24--  http://files.grouplens.org/datasets/movielens/ml-100k.zip\n",
            "Resolving files.grouplens.org (files.grouplens.org)... 128.101.65.152\n",
            "Connecting to files.grouplens.org (files.grouplens.org)|128.101.65.152|:80... connected.\n",
            "HTTP request sent, awaiting response... 200 OK\n",
            "Length: 4924029 (4.7M) [application/zip]\n",
            "Saving to: ‘ml-100k.zip.1’\n",
            "\n",
            "ml-100k.zip.1       100%[===================>]   4.70M  11.3MB/s    in 0.4s    \n",
            "\n",
            "2023-06-06 10:56:25 (11.3 MB/s) - ‘ml-100k.zip.1’ saved [4924029/4924029]\n",
            "\n",
            "Archive:  ml-100k.zip\n",
            "replace ml-100k/allbut.pl? [y]es, [n]o, [A]ll, [N]one, [r]ename: "
          ]
        }
      ]
    },
    {
      "cell_type": "code",
      "source": [
        "# Muat data pengguna\n",
        "users_cols = ['user_id', 'age', 'sex', 'occupation', 'zip_code']\n",
        "users = pd.read_csv('ml-100k/u.user', sep='|', names=users_cols, encoding='latin-1')\n",
        "\n",
        "# Muat data peringkat\n",
        "ratings_cols = ['user_id', 'movie_id', 'rating', 'unix_timestamp']\n",
        "ratings = pd.read_csv('ml-100k/u.data', sep='\\t', names=ratings_cols, encoding='latin-1')\n",
        "\n",
        "# Muat data film\n",
        "movies_cols = ['movie_id', 'title', 'release_date', 'video_release_date', 'imdb_url']\n",
        "movies = pd.read_csv('ml-100k/u.item', sep='|', names=movies_cols, usecols=range(5), encoding='latin-1')"
      ],
      "metadata": {
        "id": "-DccYiLDW9Z8"
      },
      "execution_count": 8,
      "outputs": []
    },
    {
      "cell_type": "markdown",
      "source": [
        "### **2.3. Eksplorasi Dataset**\n",
        "Melakukan eksplorasi dataset untuk memahami struktur dan informasi yang terkandung di dalamnya. Menggunakan perintah seperti head(), info(), dan describe() untuk melihat beberapa baris awal, informasi kolom, dan statistik deskriptif."
      ],
      "metadata": {
        "id": "Bm504QnRXCbo"
      }
    },
    {
      "cell_type": "code",
      "source": [
        "print(users.head())"
      ],
      "metadata": {
        "colab": {
          "base_uri": "https://localhost:8080/"
        },
        "id": "hhZeF40RXKS3",
        "outputId": "9a05a077-0762-496e-d4fd-0dab53639d01"
      },
      "execution_count": 12,
      "outputs": [
        {
          "output_type": "stream",
          "name": "stdout",
          "text": [
            "   user_id  age sex  occupation zip_code\n",
            "0        1   24   M  technician    85711\n",
            "1        2   53   F       other    94043\n",
            "2        3   23   M      writer    32067\n",
            "3        4   24   M  technician    43537\n",
            "4        5   33   F       other    15213\n"
          ]
        }
      ]
    },
    {
      "cell_type": "code",
      "source": [
        "print(ratings.head())"
      ],
      "metadata": {
        "colab": {
          "base_uri": "https://localhost:8080/"
        },
        "id": "dksKiBCdX-8r",
        "outputId": "c81ac295-7dd8-4693-c3ca-7f01e2d225e8"
      },
      "execution_count": 13,
      "outputs": [
        {
          "output_type": "stream",
          "name": "stdout",
          "text": [
            "   user_id  movie_id  rating  unix_timestamp\n",
            "0      196       242       3       881250949\n",
            "1      186       302       3       891717742\n",
            "2       22       377       1       878887116\n",
            "3      244        51       2       880606923\n",
            "4      166       346       1       886397596\n"
          ]
        }
      ]
    },
    {
      "cell_type": "code",
      "source": [
        "print(movies.head())"
      ],
      "metadata": {
        "colab": {
          "base_uri": "https://localhost:8080/"
        },
        "id": "Jqliwi3RYIXU",
        "outputId": "b01f8a62-be96-4b12-a8b8-b22254622ea6"
      },
      "execution_count": 14,
      "outputs": [
        {
          "output_type": "stream",
          "name": "stdout",
          "text": [
            "   movie_id              title release_date  video_release_date  \\\n",
            "0         1   Toy Story (1995)  01-Jan-1995                 NaN   \n",
            "1         2   GoldenEye (1995)  01-Jan-1995                 NaN   \n",
            "2         3  Four Rooms (1995)  01-Jan-1995                 NaN   \n",
            "3         4  Get Shorty (1995)  01-Jan-1995                 NaN   \n",
            "4         5     Copycat (1995)  01-Jan-1995                 NaN   \n",
            "\n",
            "                                            imdb_url  \n",
            "0  http://us.imdb.com/M/title-exact?Toy%20Story%2...  \n",
            "1  http://us.imdb.com/M/title-exact?GoldenEye%20(...  \n",
            "2  http://us.imdb.com/M/title-exact?Four%20Rooms%...  \n",
            "3  http://us.imdb.com/M/title-exact?Get%20Shorty%...  \n",
            "4  http://us.imdb.com/M/title-exact?Copycat%20(1995)  \n"
          ]
        }
      ]
    },
    {
      "cell_type": "code",
      "source": [
        "print(users.info())"
      ],
      "metadata": {
        "colab": {
          "base_uri": "https://localhost:8080/"
        },
        "id": "4zWViGFsYObo",
        "outputId": "12fa2c6c-dab0-4006-e86f-a1e21b9886ec"
      },
      "execution_count": 15,
      "outputs": [
        {
          "output_type": "stream",
          "name": "stdout",
          "text": [
            "<class 'pandas.core.frame.DataFrame'>\n",
            "RangeIndex: 943 entries, 0 to 942\n",
            "Data columns (total 5 columns):\n",
            " #   Column      Non-Null Count  Dtype \n",
            "---  ------      --------------  ----- \n",
            " 0   user_id     943 non-null    int64 \n",
            " 1   age         943 non-null    int64 \n",
            " 2   sex         943 non-null    object\n",
            " 3   occupation  943 non-null    object\n",
            " 4   zip_code    943 non-null    object\n",
            "dtypes: int64(2), object(3)\n",
            "memory usage: 37.0+ KB\n",
            "None\n"
          ]
        }
      ]
    },
    {
      "cell_type": "code",
      "source": [
        "print(ratings.info())"
      ],
      "metadata": {
        "colab": {
          "base_uri": "https://localhost:8080/"
        },
        "id": "t3LDRSvCYRdQ",
        "outputId": "c3dad638-22bf-4726-bf8b-f9a7cc008436"
      },
      "execution_count": 16,
      "outputs": [
        {
          "output_type": "stream",
          "name": "stdout",
          "text": [
            "<class 'pandas.core.frame.DataFrame'>\n",
            "RangeIndex: 100000 entries, 0 to 99999\n",
            "Data columns (total 4 columns):\n",
            " #   Column          Non-Null Count   Dtype\n",
            "---  ------          --------------   -----\n",
            " 0   user_id         100000 non-null  int64\n",
            " 1   movie_id        100000 non-null  int64\n",
            " 2   rating          100000 non-null  int64\n",
            " 3   unix_timestamp  100000 non-null  int64\n",
            "dtypes: int64(4)\n",
            "memory usage: 3.1 MB\n",
            "None\n"
          ]
        }
      ]
    },
    {
      "cell_type": "code",
      "source": [
        "print(movies.info())"
      ],
      "metadata": {
        "colab": {
          "base_uri": "https://localhost:8080/"
        },
        "id": "gpgSDnGcYW1W",
        "outputId": "f8a83adf-113e-4af4-a9fb-5f6f21f6bc77"
      },
      "execution_count": 17,
      "outputs": [
        {
          "output_type": "stream",
          "name": "stdout",
          "text": [
            "<class 'pandas.core.frame.DataFrame'>\n",
            "RangeIndex: 1682 entries, 0 to 1681\n",
            "Data columns (total 5 columns):\n",
            " #   Column              Non-Null Count  Dtype  \n",
            "---  ------              --------------  -----  \n",
            " 0   movie_id            1682 non-null   int64  \n",
            " 1   title               1682 non-null   object \n",
            " 2   release_date        1681 non-null   object \n",
            " 3   video_release_date  0 non-null      float64\n",
            " 4   imdb_url            1679 non-null   object \n",
            "dtypes: float64(1), int64(1), object(3)\n",
            "memory usage: 65.8+ KB\n",
            "None\n"
          ]
        }
      ]
    },
    {
      "cell_type": "code",
      "source": [
        "print(ratings.describe())"
      ],
      "metadata": {
        "colab": {
          "base_uri": "https://localhost:8080/"
        },
        "id": "ZSYRDkJeYhss",
        "outputId": "1a88f829-76ae-4292-d247-c49051b78899"
      },
      "execution_count": 18,
      "outputs": [
        {
          "output_type": "stream",
          "name": "stdout",
          "text": [
            "            user_id       movie_id         rating  unix_timestamp\n",
            "count  100000.00000  100000.000000  100000.000000    1.000000e+05\n",
            "mean      462.48475     425.530130       3.529860    8.835289e+08\n",
            "std       266.61442     330.798356       1.125674    5.343856e+06\n",
            "min         1.00000       1.000000       1.000000    8.747247e+08\n",
            "25%       254.00000     175.000000       3.000000    8.794487e+08\n",
            "50%       447.00000     322.000000       4.000000    8.828269e+08\n",
            "75%       682.00000     631.000000       4.000000    8.882600e+08\n",
            "max       943.00000    1682.000000       5.000000    8.932866e+08\n"
          ]
        }
      ]
    },
    {
      "cell_type": "markdown",
      "source": [
        "### **2.4. Persiapan Data**\n",
        "Melakukan pemrosesan data yang diperlukan, seperti menggabungkan DataFrame, menghapus kolom yang tidak diperlukan, dan mengubah format data jika diperlukan."
      ],
      "metadata": {
        "id": "-mlfHGoHYomn"
      }
    },
    {
      "cell_type": "code",
      "source": [
        "# Menggabungkan data pengguna, peringkat, dan film\n",
        "data = pd.merge(pd.merge(ratings, users), movies)\n",
        "\n",
        "# Hapus kolom yang tidak diperlukan\n",
        "data = data.drop(['unix_timestamp', 'zip_code', 'release_date', 'video_release_date', 'imdb_url'], axis=1)\n",
        "\n",
        "# Cetak jumlah unik pengguna dan film\n",
        "num_users = data.user_id.nunique()\n",
        "num_movies = data.movie_id.nunique()\n",
        "\n",
        "print(\"Jumlah Pengguna:\", num_users)\n",
        "print(\"Jumlah Film:\", num_movies)\n"
      ],
      "metadata": {
        "colab": {
          "base_uri": "https://localhost:8080/"
        },
        "id": "NywcYczDYxiP",
        "outputId": "9e027bc0-e5bb-41e7-d8d9-03e9e84f270c"
      },
      "execution_count": 19,
      "outputs": [
        {
          "output_type": "stream",
          "name": "stdout",
          "text": [
            "Jumlah Pengguna: 943\n",
            "Jumlah Film: 1682\n"
          ]
        }
      ]
    },
    {
      "cell_type": "markdown",
      "source": [
        "### **2.5. Membangun Model**\n",
        "Memilih model rekomendasi yang ingin digunakan, dalam hal ini memilih SVD (Singular Value Decomposition) dari library surprise."
      ],
      "metadata": {
        "id": "6eWZhY8HZH6V"
      }
    },
    {
      "cell_type": "code",
      "source": [
        "from surprise import SVD, Dataset, Reader\n",
        "from surprise.model_selection import cross_validate"
      ],
      "metadata": {
        "id": "N_pgxXBsZbKY"
      },
      "execution_count": 21,
      "outputs": []
    },
    {
      "cell_type": "code",
      "source": [
        "# Membuat objek Reader untuk membaca dataset\n",
        "reader = Reader(rating_scale=(1, 5))"
      ],
      "metadata": {
        "id": "z0_W0TdAZqds"
      },
      "execution_count": 27,
      "outputs": []
    },
    {
      "cell_type": "code",
      "source": [
        "# Memuat dataset MovieLens ke objek Dataset\n",
        "data = Dataset.load_from_df(ratings[['user_id', 'movie_id', 'rating']], reader)"
      ],
      "metadata": {
        "id": "_rtWUio4ZtiB"
      },
      "execution_count": 28,
      "outputs": []
    },
    {
      "cell_type": "code",
      "source": [
        "# Inisialisasi model SVD\n",
        "svd = SVD()"
      ],
      "metadata": {
        "id": "1i3zJ3a-ZUBN"
      },
      "execution_count": 29,
      "outputs": []
    },
    {
      "cell_type": "code",
      "source": [
        "# Evaluasi model menggunakan cross-validation\n",
        "cross_validate(svd, data, measures=['RMSE', 'MAE'], cv=5, verbose=True)"
      ],
      "metadata": {
        "colab": {
          "base_uri": "https://localhost:8080/"
        },
        "id": "YiClm6u1Z69Q",
        "outputId": "b067327b-dec4-4a55-cd94-ffc059ce3491"
      },
      "execution_count": 30,
      "outputs": [
        {
          "output_type": "stream",
          "name": "stdout",
          "text": [
            "Evaluating RMSE, MAE of algorithm SVD on 5 split(s).\n",
            "\n",
            "                  Fold 1  Fold 2  Fold 3  Fold 4  Fold 5  Mean    Std     \n",
            "RMSE (testset)    0.9382  0.9340  0.9302  0.9412  0.9325  0.9352  0.0040  \n",
            "MAE (testset)     0.7388  0.7354  0.7344  0.7412  0.7362  0.7372  0.0025  \n",
            "Fit time          1.45    1.23    1.20    1.20    1.21    1.26    0.10    \n",
            "Test time         0.23    0.12    0.21    0.14    0.24    0.19    0.05    \n"
          ]
        },
        {
          "output_type": "execute_result",
          "data": {
            "text/plain": [
              "{'test_rmse': array([0.93818387, 0.93395552, 0.93018382, 0.94122284, 0.93254614]),\n",
              " 'test_mae': array([0.73882575, 0.73543344, 0.73437856, 0.74121173, 0.73623634]),\n",
              " 'fit_time': (1.4546494483947754,\n",
              "  1.2288904190063477,\n",
              "  1.2017126083374023,\n",
              "  1.2030389308929443,\n",
              "  1.210170030593872),\n",
              " 'test_time': (0.22869324684143066,\n",
              "  0.12085676193237305,\n",
              "  0.21160244941711426,\n",
              "  0.14128684997558594,\n",
              "  0.23996186256408691)}"
            ]
          },
          "metadata": {},
          "execution_count": 30
        }
      ]
    },
    {
      "cell_type": "markdown",
      "source": [
        "### **2.6. Melatih Model dan Menguji Sistem**\n",
        "Melatih model rekomendasi menggunakan seluruh data rating dan menguji sistem dengan memberikan rekomendasi kepada pengguna."
      ],
      "metadata": {
        "id": "V6G5SsGdaR8r"
      }
    },
    {
      "cell_type": "code",
      "source": [
        "# Latih model dengan seluruh data rating\n",
        "trainset = data.build_full_trainset()\n",
        "svd.fit(trainset)\n",
        "\n",
        "# Contoh memberikan rekomendasi untuk pengguna dengan ID 5\n",
        "user_id = 5\n",
        "user_ratings = ratings[ratings['user_id'] == user_id]\n",
        "user_unseen_movies = movies[~movies['movie_id'].isin(user_ratings['movie_id'])]\n",
        "\n",
        "# Buat prediksi rating untuk film yang belum ditonton pengguna\n",
        "user_unseen_movies['predicted_rating'] = user_unseen_movies['movie_id'].apply(lambda x: svd.predict(user_id, x).est)\n",
        "\n",
        "# Urutkan film berdasarkan prediksi rating\n",
        "user_recommendations = user_unseen_movies.sort_values(by='predicted_rating', ascending=False).head(5)\n"
      ],
      "metadata": {
        "colab": {
          "base_uri": "https://localhost:8080/"
        },
        "id": "pp3G0eqOaQtY",
        "outputId": "565b51b2-ea93-4a8d-91d7-7b6336802ac0"
      },
      "execution_count": 58,
      "outputs": [
        {
          "output_type": "stream",
          "name": "stderr",
          "text": [
            "<ipython-input-58-61300be8bddf>:11: SettingWithCopyWarning: \n",
            "A value is trying to be set on a copy of a slice from a DataFrame.\n",
            "Try using .loc[row_indexer,col_indexer] = value instead\n",
            "\n",
            "See the caveats in the documentation: https://pandas.pydata.org/pandas-docs/stable/user_guide/indexing.html#returning-a-view-versus-a-copy\n",
            "  user_unseen_movies['predicted_rating'] = user_unseen_movies['movie_id'].apply(lambda x: svd.predict(user_id, x).est)\n"
          ]
        }
      ]
    },
    {
      "cell_type": "code",
      "source": [
        "print(user_recommendations)"
      ],
      "metadata": {
        "colab": {
          "base_uri": "https://localhost:8080/"
        },
        "id": "ZTBq0Pycapg8",
        "outputId": "718ddfe4-cc5f-46c5-d697-02c7b4606be6"
      },
      "execution_count": 59,
      "outputs": [
        {
          "output_type": "stream",
          "name": "stdout",
          "text": [
            "     movie_id                              title release_date  \\\n",
            "55         56                Pulp Fiction (1994)  01-Jan-1994   \n",
            "479       480          North by Northwest (1959)  01-Jan-1959   \n",
            "133       134                Citizen Kane (1941)  01-Jan-1941   \n",
            "487       488                Sunset Blvd. (1950)  01-Jan-1950   \n",
            "95         96  Terminator 2: Judgment Day (1991)  01-Jan-1991   \n",
            "\n",
            "     video_release_date                                           imdb_url  \\\n",
            "55                  NaN  http://us.imdb.com/M/title-exact?Pulp%20Fictio...   \n",
            "479                 NaN  http://us.imdb.com/M/title-exact?North%20by%20...   \n",
            "133                 NaN  http://us.imdb.com/M/title-exact?Citizen%20Kan...   \n",
            "487                 NaN  http://us.imdb.com/M/title-exact?Sunset%20Boul...   \n",
            "95                  NaN  http://us.imdb.com/M/title-exact?Terminator%20...   \n",
            "\n",
            "     predicted_rating  \n",
            "55           4.335726  \n",
            "479          4.222119  \n",
            "133          4.221612  \n",
            "487          4.218640  \n",
            "95           4.205807  \n"
          ]
        }
      ]
    },
    {
      "cell_type": "markdown",
      "source": [
        "## **3. Kesimpulan**\n",
        "Dalam proyek ini, kami berhasil membangun sistem rekomendasi menggunakan dataset MovieLens dan algoritma Collaborative Filtering dengan metode Matrix Factorization (SVD).\n",
        "\n",
        "Sistem rekomendasi ini dapat memberikan rekomendasi film kepada pengguna berdasarkan preferensi mereka.\n",
        "\n",
        "Proyek ini menunjukkan pentingnya penggunaan algoritma rekomendasi untuk memberikan pengalaman yang lebih personal kepada pengguna.\n",
        "\n",
        "Kita dapat mengembangkan proyek ini lebih lanjut dengan mengeksplorasi teknik lain seperti Content-Based Filtering atau Hybrid Filtering untuk meningkatkan kinerja sistem rekomendasi."
      ],
      "metadata": {
        "id": "X7Uco3whcD5H"
      }
    }
  ]
}